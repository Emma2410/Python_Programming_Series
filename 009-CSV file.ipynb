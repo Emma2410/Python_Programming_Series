{
 "cells": [
  {
   "cell_type": "markdown",
   "id": "c2ea3b0f",
   "metadata": {},
   "source": [
    "CSV -common separated vlaues\n",
    "-handle large amount of data\n",
    "- can be extend to excel\n",
    "1. import csv file\n",
    "2. use open() method\n",
    "3. file content can be read using reader() method,return reader object\n",
    "4. use next() method to access the reader object first row\n",
    "5. Use iteration such as for loops to reader object\n",
    "\n",
    "import csv   ---- import python csv file\n",
    "rows = []\n",
    "\n",
    "with open('text.csv')as csv_file:        ------ you don't need close method\n",
    "    csv_reader = csv.reader(csv_file) ---------creating csv object using csv method\n",
    "    fields = next(csv_reader)        ----------read the first row(heading)\n",
    "    for row in csv_reader:        ------use for loop to access reader objects\n",
    "        rows.append(row)    ------use append method to add each row ot  list rows[]\n",
    "        \n",
    "print(csv_reader)\n",
    "print(fields)\n",
    "print(rows)"
   ]
  },
  {
   "cell_type": "code",
   "execution_count": 4,
   "id": "50810eea",
   "metadata": {},
   "outputs": [
    {
     "name": "stdout",
     "output_type": "stream",
     "text": [
      "<_csv.reader object at 0x7fe881e3e820>\n",
      "['Name', ' Department', ' Salary']\n",
      "[['Soe Soe', ' English', ' 2500000'], ['Ko Ko', ' IT ', ' 150000'], ['Hla Hla', ' Korea', ' 40000'], ['Kaung Kaung', ' Jarman', ' 30000']]\n"
     ]
    }
   ],
   "source": [
    "import csv\n",
    "rows = []\n",
    "with open('xyz.csv') as csv_file:\n",
    "    csv_reader = csv.reader(csv_file)\n",
    "    fields = next(csv_reader)\n",
    "    \n",
    "    for row in csv_reader:\n",
    "        rows.append(row)\n",
    "        \n",
    "print(csv_reader)\n",
    "print(fields)\n",
    "print(rows)"
   ]
  },
  {
   "cell_type": "code",
   "execution_count": 6,
   "id": "22146c2c",
   "metadata": {},
   "outputs": [
    {
     "name": "stdout",
     "output_type": "stream",
     "text": [
      "['Soe Soe', ' English', ' 2500000']\n",
      "['Ko Ko', ' IT ', ' 150000']\n",
      "['Hla Hla', ' Korea', ' 40000']\n",
      "['Kaung Kaung', ' Jarman', ' 30000']\n"
     ]
    }
   ],
   "source": [
    "for r in rows:\n",
    "    print(r)"
   ]
  },
  {
   "cell_type": "code",
   "execution_count": 7,
   "id": "878d6845",
   "metadata": {},
   "outputs": [
    {
     "name": "stdout",
     "output_type": "stream",
     "text": [
      "Soe Soe  English  2500000\n",
      "Ko Ko  IT   150000\n",
      "Hla Hla  Korea  40000\n",
      "Kaung Kaung  Jarman  30000\n"
     ]
    }
   ],
   "source": [
    "for r in rows:\n",
    "    print(r[0],r[1],r[2])"
   ]
  },
  {
   "cell_type": "code",
   "execution_count": null,
   "id": "1b88e344",
   "metadata": {},
   "outputs": [],
   "source": []
  },
  {
   "cell_type": "code",
   "execution_count": null,
   "id": "2ce10c2b",
   "metadata": {},
   "outputs": [],
   "source": [
    "Writing CSV file\n",
    "\n",
    "1.import csv module\n",
    "2.use open method to add data ('w' for fresh content, and 'a' for append data)\n",
    "3.writer() method by passing file object and return writer object\n",
    "4.writerow() mehtod to write single line and writerows() method to write multiple lines\n",
    "\n",
    "write method can overwirte so careful choosing mode\n",
    "\n",
    "if data is dictonary use dirctory writer method\n"
   ]
  },
  {
   "cell_type": "code",
   "execution_count": 10,
   "id": "33b7f83d",
   "metadata": {},
   "outputs": [],
   "source": [
    "header = [\"Name\",\"Department\",\"Salary\"]\n",
    "data = [\n",
    "    ['Aung Aung', 'Finance',200000],\n",
    "    ['Emalia','HR',300000]\n",
    "]\n",
    "with open('abc.csv', mode = 'w',newline='')as csv_file:\n",
    "    csv_writer = csv.writer(csv_file)\n",
    "    csv_writer.writerow(header)\n",
    "    csv_writer.writerows(data)"
   ]
  },
  {
   "cell_type": "code",
   "execution_count": 13,
   "id": "9e6f02dc",
   "metadata": {},
   "outputs": [],
   "source": [
    "more_data = [\n",
    "    ['Ba Aung', 'Finance',200050],\n",
    "    ['Emmaeklaf','HR',305000]\n",
    "]\n",
    "\n",
    "with open('abc.csv', mode= 'a', newline = '')as csv_file:\n",
    "    csv_writer = csv.writer(csv_file)\n",
    "    csv_writer.writerows(more_data)"
   ]
  },
  {
   "cell_type": "code",
   "execution_count": 17,
   "id": "30e30678",
   "metadata": {},
   "outputs": [],
   "source": [
    "heading=['Name','Department','Salary']\n",
    "with open('dirformat.csv', mode = 'w', newline = '') as csv_file:\n",
    "    csv_writer = csv.DictWriter(csv_file,fieldnames= heading)\n",
    "    csv_writer.writeheader()\n",
    "    csv_writer.writerow({'Name':'Kyi Kyi','Department':'Accounting','Salary':1300000})\n",
    "    csv_writer.writerow({'Name':'Mu Mu','Department':'IT','Salary':1600000})"
   ]
  },
  {
   "cell_type": "code",
   "execution_count": 18,
   "id": "8ade42db",
   "metadata": {},
   "outputs": [
    {
     "name": "stdout",
     "output_type": "stream",
     "text": [
      "<_csv.reader object at 0x7fe8813a8190>\n",
      "['Name', 'Department', 'Salary']\n",
      "[['Kyi Kyi', 'Accounting', '1300000'], ['Mu Mu', 'IT', '1600000']]\n"
     ]
    }
   ],
   "source": [
    "import csv\n",
    "rows = []\n",
    "with open('dirformat.csv') as csv_file:\n",
    "    csv_reader = csv.reader(csv_file)\n",
    "    fields = next(csv_reader)\n",
    "    \n",
    "    for row in csv_reader:\n",
    "        rows.append(row)\n",
    "        \n",
    "print(csv_reader)\n",
    "print(fields)\n",
    "print(rows)"
   ]
  },
  {
   "cell_type": "code",
   "execution_count": null,
   "id": "88b04483",
   "metadata": {},
   "outputs": [],
   "source": []
  }
 ],
 "metadata": {
  "kernelspec": {
   "display_name": "Python 3",
   "language": "python",
   "name": "python3"
  },
  "language_info": {
   "codemirror_mode": {
    "name": "ipython",
    "version": 3
   },
   "file_extension": ".py",
   "mimetype": "text/x-python",
   "name": "python",
   "nbconvert_exporter": "python",
   "pygments_lexer": "ipython3",
   "version": "3.8.8"
  }
 },
 "nbformat": 4,
 "nbformat_minor": 5
}
