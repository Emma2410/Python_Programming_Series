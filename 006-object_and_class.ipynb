{
 "cells": [
  {
   "cell_type": "markdown",
   "id": "1ecb4481",
   "metadata": {},
   "source": [
    "function(method or procedure)\n",
    "\n",
    "Class is the blueprint or design of the object\n",
    "define attribute and write method of the class\n",
    "Constructor - first initiate object when the object is created\n"
   ]
  },
  {
   "cell_type": "markdown",
   "id": "bb7254b7",
   "metadata": {},
   "source": [
    "class is the design of home \n",
    "the every house that build upon those design are object\n",
    "we can create every number of the class"
   ]
  },
  {
   "cell_type": "markdown",
   "id": "7e453e3e",
   "metadata": {},
   "source": [
    "car class can include\n",
    "\n",
    "data attribute- brand,color\n",
    "methods- drive(),stop()\n",
    "\n",
    "\n",
    "\n"
   ]
  },
  {
   "cell_type": "code",
   "execution_count": 3,
   "id": "3cd00415",
   "metadata": {},
   "outputs": [
    {
     "name": "stdout",
     "output_type": "stream",
     "text": [
      "Toyota car is driving\n",
      "Toyota\n"
     ]
    }
   ],
   "source": [
    "class Car:\n",
    "    \n",
    "    brand = \"Toyota\"\n",
    "    def drive(self):\n",
    "        print(self.brand,'car is driving')\n",
    "        \n",
    "my_new_car = Car()\n",
    "my_new_car.drive()\n",
    "print(my_new_car.brand)"
   ]
  },
  {
   "cell_type": "code",
   "execution_count": 8,
   "id": "576fff2d",
   "metadata": {},
   "outputs": [
    {
     "name": "stdout",
     "output_type": "stream",
     "text": [
      "Toyota car is driving\n",
      "Toyota\n"
     ]
    }
   ],
   "source": [
    "class Car1:\n",
    "    \n",
    "    \n",
    "    def drive(self):\n",
    "        print(self.brand,'car is driving')\n",
    "    def get_speed(self):\n",
    "        print(self.speed,\"is my top speed\")\n",
    "    def get_gear(self):\n",
    "        print(self.gear,'gear')\n",
    "        \n",
    "my_new_car = Car1()\n",
    "my_new_car.brand = \"Toyota\"\n",
    "my_new_car.drive()\n",
    "print(my_new_car.brand)"
   ]
  },
  {
   "cell_type": "code",
   "execution_count": 9,
   "id": "3f2b1c2d",
   "metadata": {},
   "outputs": [
    {
     "name": "stdout",
     "output_type": "stream",
     "text": [
      "Toyota car is driving\n"
     ]
    }
   ],
   "source": [
    "toyota = Car1()\n",
    "toyota.brand =\"Toyota\"\n",
    "toyota.speed = 150\n",
    "toyota.gear = 'Auto'\n",
    "toyota.drive()"
   ]
  },
  {
   "cell_type": "code",
   "execution_count": 10,
   "id": "ad5e394c",
   "metadata": {},
   "outputs": [
    {
     "name": "stdout",
     "output_type": "stream",
     "text": [
      "150 is my top speed\n"
     ]
    }
   ],
   "source": [
    "toyota.get_speed()"
   ]
  },
  {
   "cell_type": "code",
   "execution_count": 11,
   "id": "59f78e87",
   "metadata": {},
   "outputs": [
    {
     "name": "stdout",
     "output_type": "stream",
     "text": [
      "Auto gear\n"
     ]
    }
   ],
   "source": [
    "toyota.get_gear()"
   ]
  },
  {
   "cell_type": "code",
   "execution_count": 12,
   "id": "83c0ab10",
   "metadata": {},
   "outputs": [
    {
     "name": "stdout",
     "output_type": "stream",
     "text": [
      "BMW car is driving\n"
     ]
    }
   ],
   "source": [
    "bmw = Car1()\n",
    "bmw.brand =\"BMW\"\n",
    "bmw.speed = 160\n",
    "bmw.gear = 'Auto'\n",
    "bmw.drive()\n"
   ]
  },
  {
   "cell_type": "code",
   "execution_count": null,
   "id": "38c869ee",
   "metadata": {},
   "outputs": [],
   "source": [
    "tata = Car1()\n",
    "tata.brand =\"Tata\"\n",
    "tata.speed = 150\n",
    "tata.gear = 'Auto'\n",
    "tata.drive()"
   ]
  },
  {
   "cell_type": "code",
   "execution_count": 25,
   "id": "5268503c",
   "metadata": {},
   "outputs": [
    {
     "name": "stdout",
     "output_type": "stream",
     "text": [
      "I made a new car Nissi Red 140 Auto\n"
     ]
    }
   ],
   "source": [
    "# Constructor - in order to avoid repeatation of classes\n",
    "class Car2:\n",
    "    def __init__(self, brand, color, speed, gear):\n",
    "        self.brand = brand\n",
    "        self.color = color\n",
    "        self.speed = speed \n",
    "        self.gear = gear\n",
    "    \n",
    "    def make_car(self):\n",
    "        print('I made a new car', self.brand, self.color, self.speed, self.gear)\n",
    "    \n",
    "    def drive(self):\n",
    "        print(self.brand,'Car is Driving')\n",
    "        \n",
    "    def get_speed(self):\n",
    "        print(self.speed,\"is my top speed\")\n",
    "        \n",
    "    def get_gear(self):\n",
    "        print(self.gear,'gear')\n",
    "\n",
    "nissian = Car2('Nissi', 'Red', '140', 'Auto')\n",
    "nissian.make_car()\n",
    "\n"
   ]
  },
  {
   "cell_type": "code",
   "execution_count": 31,
   "id": "a49c7338",
   "metadata": {},
   "outputs": [
    {
     "name": "stdout",
     "output_type": "stream",
     "text": [
      "I made a new car BMW Black 200 Manual\n"
     ]
    }
   ],
   "source": [
    "bmw1= Car2('BMW','Black','200','Manual')\n",
    "bmw1.make_car()"
   ]
  },
  {
   "cell_type": "code",
   "execution_count": 32,
   "id": "2b723443",
   "metadata": {},
   "outputs": [
    {
     "name": "stdout",
     "output_type": "stream",
     "text": [
      "140 is my top speed\n"
     ]
    }
   ],
   "source": [
    "nissian.get_speed()"
   ]
  },
  {
   "cell_type": "code",
   "execution_count": 33,
   "id": "b0075bc4",
   "metadata": {},
   "outputs": [
    {
     "name": "stdout",
     "output_type": "stream",
     "text": [
      "200 is my top speed\n"
     ]
    }
   ],
   "source": [
    "bmw1.get_speed()"
   ]
  },
  {
   "cell_type": "code",
   "execution_count": null,
   "id": "302e6a79",
   "metadata": {},
   "outputs": [],
   "source": []
  }
 ],
 "metadata": {
  "kernelspec": {
   "display_name": "Python 3",
   "language": "python",
   "name": "python3"
  },
  "language_info": {
   "codemirror_mode": {
    "name": "ipython",
    "version": 3
   },
   "file_extension": ".py",
   "mimetype": "text/x-python",
   "name": "python",
   "nbconvert_exporter": "python",
   "pygments_lexer": "ipython3",
   "version": "3.8.8"
  }
 },
 "nbformat": 4,
 "nbformat_minor": 5
}
