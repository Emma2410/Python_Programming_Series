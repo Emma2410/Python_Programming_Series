{
 "cells": [
  {
   "cell_type": "markdown",
   "id": "69bc55f8-dabc-4e0b-82b9-6c9e3b942a3b",
   "metadata": {},
   "source": [
    "# ADVANCED_DATA_TYPE_AND_DATA_STRUCTURE_IN_PYTHON\n"
   ]
  },
  {
   "cell_type": "markdown",
   "id": "39262917-06d6-4d14-bf02-945f78bd8125",
   "metadata": {},
   "source": [
    "1.Store series of data\n",
    "    e.g. Jan,Feb,March\n",
    "    \n",
    "2.Store different Data Type\n",
    "    e.g. Jan,31.Feb,28\n",
    "    \n",
    "3.Store pair values\n",
    "    e.g.stock price for 01-01-2020\n",
    "    \n",
    "3.to handle large data sets\n",
    "    e.g. list of sold housing price for a city in particylar year\n",
    "    \n",
    "4.to be able to perform aggregation\n",
    "    e.g.merge cach individual dataset ot find average value\n",
    "    \n",
    "    "
   ]
  },
  {
   "cell_type": "markdown",
   "id": "269e0b3d-ffd7-4799-aa46-a527cf471996",
   "metadata": {},
   "source": [
    "# NOTE  ON ADVANCED DATA TYPE\n",
    "\n",
    "LIST &emsp;MUTABLE&emsp;      ORDERED&emsp;     [1,'GEJIAJ']&emsp;    CAN CHANGE THE LIST <br>\n",
    "TUPLE &emsp;IMMUTABLE&emsp;  OREDERED&emsp;       (3,'JAJA')&emsp;       CAN BE CHANG BY LIST FIRST, MINIPULATE AND RETURN TO TUPLE<br>\n",
    "SET  &emsp; MUTABLE&emsp;     UNORDERED&emsp;      {3,2.3,'GEOJA'}&emsp; IF DUPLICATE, ONLY SHOW UNIQUE ELEMENT AND GET RID THEM<br>\n",
    "DICTIONARY&emsp; MUTABLE&emsp; -VALUE UNORDERED&emsp;{'JAN':1, '1':'JAN'}&emsp;\n",
    "          &emsp; IMMUTABLE-KEY&emsp;"
   ]
  },
  {
   "cell_type": "markdown",
   "id": "9d242b83-01e9-4fd8-8884-dca1d7e9e550",
   "metadata": {},
   "source": [
    " | | NAME #  | Immutable    | ORDERED   | STYLE  |\n",
    "|---:|:-------------|:-----------|:------|:------|\n",
    "| 1 | List        | mutable      | ordered  |  [1,'GEJIAJ']    |\n",
    "| 2 | Tuple.      | immutable    | ordered  | (3,'JAJA')   |\n",
    "| 3 | Set         | immutable    | unordered  | {3,2.3,'GEOJA'} |\n",
    "| 4 | Dictonary   | immutable-key   | unordered  | 'JAN':1, '1':'JAN'}  |\n",
    "| 2 |             | mutable --value   |   |   |"
   ]
  },
  {
   "cell_type": "raw",
   "id": "a1c0c56e-47d1-4608-b03e-50e015c4bc32",
   "metadata": {},
   "source": [
    "\n",
    "\n",
    "### List\n",
    "* Series of data that can be accessed by its index.....start from zero\n",
    "* Negative index to access from the end of the list\n",
    "* supprot ### 'in' operator\n",
    "* Can modify the list \n",
    "* Look like string\n",
    "\n",
    "len()\n",
    "max()\n",
    "min()\n",
    "join()\n",
    "sorted()--smallest to largest\n",
    "* append()-- add end of the list\n",
    "* insert()-- add start of the list\n",
    "* pop() -- remove the last element\n",
    "\n"
   ]
  },
  {
   "cell_type": "markdown",
   "id": "ebe043af-7cf6-42a9-90d8-2f05bc39558b",
   "metadata": {},
   "source": [
    "### Tuples\n",
    "\n",
    "* can store related pieces of information\n",
    "* optional ()\n",
    "* use comma to add values\n",
    "* support \"in\" operator\n",
    "* immutable - cannot change\n",
    "* can use pair variables\n",
    "\n",
    "\n",
    "count()\n",
    "index()\n",
    "len()\n",
    "min()\n",
    "max()\n",
    "sorted()\n"
   ]
  },
  {
   "cell_type": "code",
   "execution_count": 4,
   "id": "6acdf3b0-bcff-42ce-8862-7aa66061c9d8",
   "metadata": {},
   "outputs": [
    {
     "data": {
      "text/plain": [
       "'cooking oil'"
      ]
     },
     "execution_count": 4,
     "metadata": {},
     "output_type": "execute_result"
    }
   ],
   "source": [
    "basket = ['cooking oil','milk','apple','banana','orange']\n",
    "basket[0]"
   ]
  },
  {
   "cell_type": "code",
   "execution_count": 5,
   "id": "2892dcd0-50f5-4e75-a532-5ad5b0276022",
   "metadata": {},
   "outputs": [
    {
     "data": {
      "text/plain": [
       "list"
      ]
     },
     "execution_count": 5,
     "metadata": {},
     "output_type": "execute_result"
    }
   ],
   "source": [
    "type(basket)"
   ]
  },
  {
   "cell_type": "code",
   "execution_count": 6,
   "id": "1bb5c1c6-e7cf-4bfa-803c-9bf05b7cf468",
   "metadata": {},
   "outputs": [
    {
     "data": {
      "text/plain": [
       "'orange'"
      ]
     },
     "execution_count": 6,
     "metadata": {},
     "output_type": "execute_result"
    }
   ],
   "source": [
    "basket[-1]"
   ]
  },
  {
   "cell_type": "code",
   "execution_count": 7,
   "id": "5e2a4e6c-4627-4a64-aecb-5e80c65c40a7",
   "metadata": {},
   "outputs": [
    {
     "data": {
      "text/plain": [
       "['cooking oil', 'milk']"
      ]
     },
     "execution_count": 7,
     "metadata": {},
     "output_type": "execute_result"
    }
   ],
   "source": [
    "basket[0:2]"
   ]
  },
  {
   "cell_type": "code",
   "execution_count": 8,
   "id": "51f6a75d-d6a0-421b-8829-561ae2371c7b",
   "metadata": {},
   "outputs": [
    {
     "data": {
      "text/plain": [
       "True"
      ]
     },
     "execution_count": 8,
     "metadata": {},
     "output_type": "execute_result"
    }
   ],
   "source": [
    "'apple' in basket\n"
   ]
  },
  {
   "cell_type": "code",
   "execution_count": 9,
   "id": "935f0545-425d-4b9f-ad03-46e869493338",
   "metadata": {},
   "outputs": [
    {
     "data": {
      "text/plain": [
       "False"
      ]
     },
     "execution_count": 9,
     "metadata": {},
     "output_type": "execute_result"
    }
   ],
   "source": [
    "'juice' in basket"
   ]
  },
  {
   "cell_type": "code",
   "execution_count": 11,
   "id": "527eb27d-df6f-42c7-9955-632a0416aa67",
   "metadata": {},
   "outputs": [
    {
     "data": {
      "text/plain": [
       "[1, 'first', 2, 'second', 1.5, True]"
      ]
     },
     "execution_count": 11,
     "metadata": {},
     "output_type": "execute_result"
    }
   ],
   "source": [
    "various_type = [1,'first',2,'second',1.5,True]\n",
    "various_type"
   ]
  },
  {
   "cell_type": "code",
   "execution_count": 12,
   "id": "f70cd37f-a6af-434a-be01-9bf2b53230a6",
   "metadata": {},
   "outputs": [
    {
     "data": {
      "text/plain": [
       "5"
      ]
     },
     "execution_count": 12,
     "metadata": {},
     "output_type": "execute_result"
    }
   ],
   "source": [
    "len(basket)"
   ]
  },
  {
   "cell_type": "code",
   "execution_count": 13,
   "id": "629563c1-7327-47cd-a182-b9426ff5f754",
   "metadata": {},
   "outputs": [
    {
     "data": {
      "text/plain": [
       "'orange'"
      ]
     },
     "execution_count": 13,
     "metadata": {},
     "output_type": "execute_result"
    }
   ],
   "source": [
    "max(basket)"
   ]
  },
  {
   "cell_type": "code",
   "execution_count": 19,
   "id": "71f1f867-cd63-46a4-aa45-85eea2a7a803",
   "metadata": {},
   "outputs": [
    {
     "data": {
      "text/plain": [
       "56"
      ]
     },
     "execution_count": 19,
     "metadata": {},
     "output_type": "execute_result"
    }
   ],
   "source": [
    "number = [3,5,56,6,9,10]\n",
    "max(number)"
   ]
  },
  {
   "cell_type": "code",
   "execution_count": 15,
   "id": "60054213-980f-4153-bb13-684df043dcec",
   "metadata": {},
   "outputs": [
    {
     "data": {
      "text/plain": [
       "3"
      ]
     },
     "execution_count": 15,
     "metadata": {},
     "output_type": "execute_result"
    }
   ],
   "source": [
    "min(number)"
   ]
  },
  {
   "cell_type": "code",
   "execution_count": 16,
   "id": "7485abb7-10e2-428c-841d-6fcdd2a6a327",
   "metadata": {},
   "outputs": [
    {
     "data": {
      "text/plain": [
       "['apple', 'banana', 'cooking oil', 'milk', 'orange']"
      ]
     },
     "execution_count": 16,
     "metadata": {},
     "output_type": "execute_result"
    }
   ],
   "source": [
    "sorted(basket)"
   ]
  },
  {
   "cell_type": "code",
   "execution_count": 20,
   "id": "5bc1d90b-7e61-4df1-9759-ca3c3b021e6d",
   "metadata": {},
   "outputs": [
    {
     "data": {
      "text/plain": [
       "[3, 5, 6, 9, 10, 56]"
      ]
     },
     "execution_count": 20,
     "metadata": {},
     "output_type": "execute_result"
    }
   ],
   "source": [
    "sorted(number)"
   ]
  },
  {
   "cell_type": "code",
   "execution_count": 21,
   "id": "eaf2f347-ac35-4f80-846e-c93f0df2e649",
   "metadata": {},
   "outputs": [
    {
     "data": {
      "text/plain": [
       "[3, 5, 56, 6, 9, 10]"
      ]
     },
     "execution_count": 21,
     "metadata": {},
     "output_type": "execute_result"
    }
   ],
   "source": [
    "number   \n",
    "#Cannot change the value"
   ]
  },
  {
   "cell_type": "code",
   "execution_count": 23,
   "id": "8b77556c-862e-4b50-a4aa-dec71dd459cc",
   "metadata": {},
   "outputs": [
    {
     "data": {
      "text/plain": [
       "['cooking oil', 'milk', 'apple', 'banana', 'orange', 'coconut', 'coconut']"
      ]
     },
     "execution_count": 23,
     "metadata": {},
     "output_type": "execute_result"
    }
   ],
   "source": [
    "basket.append('coconut')\n",
    "basket"
   ]
  },
  {
   "cell_type": "code",
   "execution_count": 24,
   "id": "2ddfd28c-2aa5-4c2f-a2de-4c503085609f",
   "metadata": {},
   "outputs": [
    {
     "data": {
      "text/plain": [
       "['Water Melon',\n",
       " 'cooking oil',\n",
       " 'milk',\n",
       " 'apple',\n",
       " 'banana',\n",
       " 'orange',\n",
       " 'coconut',\n",
       " 'coconut']"
      ]
     },
     "execution_count": 24,
     "metadata": {},
     "output_type": "execute_result"
    }
   ],
   "source": [
    "basket.insert(0,'Water Melon')\n",
    "basket"
   ]
  },
  {
   "cell_type": "code",
   "execution_count": 26,
   "id": "2bfef817-d742-4892-8615-1c83e316a3d0",
   "metadata": {},
   "outputs": [
    {
     "data": {
      "text/plain": [
       "['Water Melon', 'cooking oil', 'milk', 'apple', 'banana', 'orange']"
      ]
     },
     "execution_count": 26,
     "metadata": {},
     "output_type": "execute_result"
    }
   ],
   "source": [
    "basket.pop()\n",
    "basket"
   ]
  },
  {
   "cell_type": "code",
   "execution_count": 27,
   "id": "eb843c0c-1533-40d9-9361-15690805a444",
   "metadata": {},
   "outputs": [
    {
     "data": {
      "text/plain": [
       "['Water Melon', 'milk', 'apple', 'banana', 'orange']"
      ]
     },
     "execution_count": 27,
     "metadata": {},
     "output_type": "execute_result"
    }
   ],
   "source": [
    "basket.pop(1)\n",
    "basket"
   ]
  },
  {
   "cell_type": "code",
   "execution_count": 28,
   "id": "902c53ee-d5a4-4ea8-82c6-2c50f9c32bda",
   "metadata": {},
   "outputs": [
    {
     "data": {
      "text/plain": [
       "[1, 2, 3, 4, 5, 6]"
      ]
     },
     "execution_count": 28,
     "metadata": {},
     "output_type": "execute_result"
    }
   ],
   "source": [
    "listA = [1,2,3]\n",
    "listB = [4,5,6]\n",
    "listC = listA+listB\n",
    "listC"
   ]
  },
  {
   "cell_type": "code",
   "execution_count": 29,
   "id": "b338bfab-c79f-489e-9710-b6a07082c2d7",
   "metadata": {},
   "outputs": [
    {
     "data": {
      "text/plain": [
       "[]"
      ]
     },
     "execution_count": 29,
     "metadata": {},
     "output_type": "execute_result"
    }
   ],
   "source": [
    "listC.clear()\n",
    "listC"
   ]
  },
  {
   "cell_type": "code",
   "execution_count": 30,
   "id": "105ada6f-3237-4482-a055-dee13cf56ed4",
   "metadata": {},
   "outputs": [
    {
     "ename": "NameError",
     "evalue": "name 'listC' is not defined",
     "output_type": "error",
     "traceback": [
      "\u001b[0;31m---------------------------------------------------------------------------\u001b[0m",
      "\u001b[0;31mNameError\u001b[0m                                 Traceback (most recent call last)",
      "\u001b[0;32m<ipython-input-30-ed3ca85b6d54>\u001b[0m in \u001b[0;36m<module>\u001b[0;34m\u001b[0m\n\u001b[1;32m      1\u001b[0m \u001b[0;32mdel\u001b[0m \u001b[0mlistC\u001b[0m\u001b[0;34m\u001b[0m\u001b[0;34m\u001b[0m\u001b[0m\n\u001b[0;32m----> 2\u001b[0;31m \u001b[0mlistC\u001b[0m\u001b[0;34m\u001b[0m\u001b[0;34m\u001b[0m\u001b[0m\n\u001b[0m",
      "\u001b[0;31mNameError\u001b[0m: name 'listC' is not defined"
     ]
    }
   ],
   "source": [
    "del listC\n",
    "listC"
   ]
  },
  {
   "cell_type": "code",
   "execution_count": 31,
   "id": "05667c4f-0b99-4bbc-b503-dd2d9b4c67af",
   "metadata": {},
   "outputs": [],
   "source": [
    "garage = ('Volvo','Honda',\"Audi\", \"BMW\")\n"
   ]
  },
  {
   "cell_type": "code",
   "execution_count": 32,
   "id": "94eb3e6d-73b1-4aa7-b4fd-37a5e931767b",
   "metadata": {},
   "outputs": [
    {
     "data": {
      "text/plain": [
       "tuple"
      ]
     },
     "execution_count": 32,
     "metadata": {},
     "output_type": "execute_result"
    }
   ],
   "source": [
    "type(garage)"
   ]
  },
  {
   "cell_type": "code",
   "execution_count": 33,
   "id": "8601af92-610c-40a8-984c-0039406fef98",
   "metadata": {},
   "outputs": [
    {
     "data": {
      "text/plain": [
       "'BMW'"
      ]
     },
     "execution_count": 33,
     "metadata": {},
     "output_type": "execute_result"
    }
   ],
   "source": [
    "garage[0]\n",
    "garage[-1]"
   ]
  },
  {
   "cell_type": "code",
   "execution_count": 34,
   "id": "ff8cc75e-333e-4f38-87be-8475c58dbe1f",
   "metadata": {},
   "outputs": [
    {
     "data": {
      "text/plain": [
       "True"
      ]
     },
     "execution_count": 34,
     "metadata": {},
     "output_type": "execute_result"
    }
   ],
   "source": [
    "'Honda' in garage"
   ]
  },
  {
   "cell_type": "code",
   "execution_count": 35,
   "id": "6659aa7b-9f7f-40fa-a512-8f8d9e82529a",
   "metadata": {},
   "outputs": [
    {
     "data": {
      "text/plain": [
       "'Volvo  Honda'"
      ]
     },
     "execution_count": 35,
     "metadata": {},
     "output_type": "execute_result"
    }
   ],
   "source": [
    "car1,car2,car3,car4 = garage\n",
    "car1+ \"  \"+car2"
   ]
  },
  {
   "cell_type": "code",
   "execution_count": 36,
   "id": "74d47b80-9fc0-40ea-b142-e555dd339fc0",
   "metadata": {},
   "outputs": [
    {
     "data": {
      "text/plain": [
       "'Audi BMW'"
      ]
     },
     "execution_count": 36,
     "metadata": {},
     "output_type": "execute_result"
    }
   ],
   "source": [
    "car3 + ' '+car4"
   ]
  },
  {
   "cell_type": "markdown",
   "id": "36223872-c392-4def-bac2-84112066c456",
   "metadata": {},
   "source": [
    "# IMMUTABLE"
   ]
  },
  {
   "cell_type": "code",
   "execution_count": 37,
   "id": "2fb2ba7d-7104-4e46-b525-4719474a5eaf",
   "metadata": {},
   "outputs": [
    {
     "data": {
      "text/plain": [
       "['Audi', 'BMW', 'Honda', 'Volvo']"
      ]
     },
     "execution_count": 37,
     "metadata": {},
     "output_type": "execute_result"
    }
   ],
   "source": [
    "#IMMUTABLE\n",
    "\n",
    "sorted(garage)"
   ]
  },
  {
   "cell_type": "code",
   "execution_count": 38,
   "id": "3a20d0c5-d485-4235-b2ac-05208fa7af7f",
   "metadata": {},
   "outputs": [
    {
     "data": {
      "text/plain": [
       "('Volvo', 'Honda', 'Audi', 'BMW')"
      ]
     },
     "execution_count": 38,
     "metadata": {},
     "output_type": "execute_result"
    }
   ],
   "source": [
    "garage\n"
   ]
  },
  {
   "cell_type": "code",
   "execution_count": 39,
   "id": "0d236211-b754-4686-9ea5-a6aef9e26b25",
   "metadata": {},
   "outputs": [
    {
     "ename": "AttributeError",
     "evalue": "'tuple' object has no attribute 'append'",
     "output_type": "error",
     "traceback": [
      "\u001b[0;31m---------------------------------------------------------------------------\u001b[0m",
      "\u001b[0;31mAttributeError\u001b[0m                            Traceback (most recent call last)",
      "\u001b[0;32m<ipython-input-39-a27615ffafc4>\u001b[0m in \u001b[0;36m<module>\u001b[0;34m\u001b[0m\n\u001b[0;32m----> 1\u001b[0;31m \u001b[0mgarage\u001b[0m\u001b[0;34m.\u001b[0m\u001b[0mappend\u001b[0m\u001b[0;34m(\u001b[0m\u001b[0;34m'Mercedes'\u001b[0m\u001b[0;34m)\u001b[0m\u001b[0;34m\u001b[0m\u001b[0;34m\u001b[0m\u001b[0m\n\u001b[0m",
      "\u001b[0;31mAttributeError\u001b[0m: 'tuple' object has no attribute 'append'"
     ]
    }
   ],
   "source": [
    "garage.append('Mercedes')"
   ]
  },
  {
   "cell_type": "code",
   "execution_count": 43,
   "id": "829c7f6c-e284-4351-aa29-053b59d549f5",
   "metadata": {},
   "outputs": [
    {
     "data": {
      "text/plain": [
       "['Volvo', 'Honda', 'Audi', 'BMW']"
      ]
     },
     "execution_count": 43,
     "metadata": {},
     "output_type": "execute_result"
    }
   ],
   "source": [
    "garage_list = list(garage)\n",
    "garage_list"
   ]
  },
  {
   "cell_type": "code",
   "execution_count": 44,
   "id": "8025bc0b-9e65-48fd-a88f-e1daea6579f3",
   "metadata": {},
   "outputs": [
    {
     "data": {
      "text/plain": [
       "['Audi', 'BMW', 'Honda', 'Volvo']"
      ]
     },
     "execution_count": 44,
     "metadata": {},
     "output_type": "execute_result"
    }
   ],
   "source": [
    "sorted(garage_list)"
   ]
  },
  {
   "cell_type": "code",
   "execution_count": 45,
   "id": "817b8797-0280-4072-b099-938b7b980ae4",
   "metadata": {},
   "outputs": [
    {
     "data": {
      "text/plain": [
       "('Volvo', 'Honda', 'Audi', 'BMW')"
      ]
     },
     "execution_count": 45,
     "metadata": {},
     "output_type": "execute_result"
    }
   ],
   "source": [
    "garage_tuple = tuple(garage_list)\n",
    "garage_tuple"
   ]
  },
  {
   "cell_type": "markdown",
   "id": "5f04b0c2-4ef4-4509-8036-8fc4f3f7091e",
   "metadata": {},
   "source": [
    "# tuple can access different data type\n",
    "### paratheses is optional"
   ]
  },
  {
   "cell_type": "code",
   "execution_count": 46,
   "id": "bc255139-d456-409b-b6c3-aaa1bd5456dc",
   "metadata": {},
   "outputs": [],
   "source": [
    "tuple_list1 = 1,\"Hello\",0.5,True\n"
   ]
  },
  {
   "cell_type": "code",
   "execution_count": 47,
   "id": "56370926-eaaa-4039-a555-c1753193b86f",
   "metadata": {},
   "outputs": [
    {
     "data": {
      "text/plain": [
       "(1, 'Hello', 0.5, True)"
      ]
     },
     "execution_count": 47,
     "metadata": {},
     "output_type": "execute_result"
    }
   ],
   "source": [
    "tuple_list1"
   ]
  },
  {
   "cell_type": "markdown",
   "id": "c65f99e8-4bd7-4a66-b2fe-91071dd24eb9",
   "metadata": {},
   "source": [
    "# Advanced Data Type Part 2   \n",
    "# Set Operation\n",
    "### mutable\n"
   ]
  },
  {
   "cell_type": "code",
   "execution_count": 48,
   "id": "922f9a56-ee05-441d-8e29-68c61e5261af",
   "metadata": {},
   "outputs": [
    {
     "data": {
      "text/plain": [
       "{1, 2, 3, 4, 5}"
      ]
     },
     "execution_count": 48,
     "metadata": {},
     "output_type": "execute_result"
    }
   ],
   "source": [
    "num_set = {1, 2, 1, 3, 4, 5} #Include '1' two times but only show one because set is the collection of unique element\n",
    "num_set\n"
   ]
  },
  {
   "cell_type": "code",
   "execution_count": 49,
   "id": "a5f20f90-425c-4959-b415-cedb1fe66381",
   "metadata": {},
   "outputs": [
    {
     "data": {
      "text/plain": [
       "True"
      ]
     },
     "execution_count": 49,
     "metadata": {},
     "output_type": "execute_result"
    }
   ],
   "source": [
    "1 in num_set"
   ]
  },
  {
   "cell_type": "code",
   "execution_count": 50,
   "id": "b1352beb-ab1e-4d07-8018-e22c6bc7fd66",
   "metadata": {},
   "outputs": [],
   "source": [
    "num_set.add(6)"
   ]
  },
  {
   "cell_type": "code",
   "execution_count": 51,
   "id": "6a45d172-756d-439e-97cd-0a1b386538dc",
   "metadata": {},
   "outputs": [
    {
     "data": {
      "text/plain": [
       "{1, 2, 3, 4, 5, 6}"
      ]
     },
     "execution_count": 51,
     "metadata": {},
     "output_type": "execute_result"
    }
   ],
   "source": [
    "num_set\n"
   ]
  },
  {
   "cell_type": "code",
   "execution_count": 52,
   "id": "42e8028d-b714-440a-b407-d04e441c9e4c",
   "metadata": {},
   "outputs": [],
   "source": [
    "num_set.update([7,8])"
   ]
  },
  {
   "cell_type": "code",
   "execution_count": 53,
   "id": "968ced40-a77a-4049-9fc4-130fcf732b72",
   "metadata": {},
   "outputs": [
    {
     "data": {
      "text/plain": [
       "{1, 2, 3, 4, 5, 6, 7, 8}"
      ]
     },
     "execution_count": 53,
     "metadata": {},
     "output_type": "execute_result"
    }
   ],
   "source": [
    "num_set"
   ]
  },
  {
   "cell_type": "code",
   "execution_count": 54,
   "id": "d00d67b1-ab35-411d-b620-b3f32be7d7dd",
   "metadata": {},
   "outputs": [
    {
     "data": {
      "text/plain": [
       "{2, 3, 4, 5, 6, 7, 8}"
      ]
     },
     "execution_count": 54,
     "metadata": {},
     "output_type": "execute_result"
    }
   ],
   "source": [
    "num_set.remove(1)\n",
    "num_set"
   ]
  },
  {
   "cell_type": "code",
   "execution_count": 55,
   "id": "bde71ccb-ca67-4ab0-8157-72353503664e",
   "metadata": {},
   "outputs": [
    {
     "data": {
      "text/plain": [
       "2"
      ]
     },
     "execution_count": 55,
     "metadata": {},
     "output_type": "execute_result"
    }
   ],
   "source": [
    "num_set.pop()"
   ]
  },
  {
   "cell_type": "code",
   "execution_count": 56,
   "id": "38882d61-80a2-48b0-9756-a32e2bcec5c8",
   "metadata": {},
   "outputs": [
    {
     "data": {
      "text/plain": [
       "{3, 4, 5, 6, 7, 8}"
      ]
     },
     "execution_count": 56,
     "metadata": {},
     "output_type": "execute_result"
    }
   ],
   "source": [
    "num_set"
   ]
  },
  {
   "cell_type": "code",
   "execution_count": 57,
   "id": "d02566ae-8394-4727-b1b1-3bfd522a3825",
   "metadata": {},
   "outputs": [],
   "source": [
    "num_set.clear()"
   ]
  },
  {
   "cell_type": "code",
   "execution_count": 58,
   "id": "dad45ff8-da72-4557-90c0-a9921efb5387",
   "metadata": {},
   "outputs": [
    {
     "data": {
      "text/plain": [
       "set()"
      ]
     },
     "execution_count": 58,
     "metadata": {},
     "output_type": "execute_result"
    }
   ],
   "source": [
    "num_set"
   ]
  },
  {
   "cell_type": "code",
   "execution_count": 59,
   "id": "05ccbf58-8e91-4009-b585-b77cd18e3b48",
   "metadata": {},
   "outputs": [
    {
     "ename": "NameError",
     "evalue": "name 'num_set' is not defined",
     "output_type": "error",
     "traceback": [
      "\u001b[0;31m---------------------------------------------------------------------------\u001b[0m",
      "\u001b[0;31mNameError\u001b[0m                                 Traceback (most recent call last)",
      "\u001b[0;32m<ipython-input-59-e45f985b1751>\u001b[0m in \u001b[0;36m<module>\u001b[0;34m\u001b[0m\n\u001b[1;32m      1\u001b[0m \u001b[0;32mdel\u001b[0m \u001b[0mnum_set\u001b[0m\u001b[0;34m\u001b[0m\u001b[0;34m\u001b[0m\u001b[0m\n\u001b[0;32m----> 2\u001b[0;31m \u001b[0mnum_set\u001b[0m\u001b[0;34m\u001b[0m\u001b[0;34m\u001b[0m\u001b[0m\n\u001b[0m",
      "\u001b[0;31mNameError\u001b[0m: name 'num_set' is not defined"
     ]
    }
   ],
   "source": [
    "del num_set\n",
    "num_set"
   ]
  },
  {
   "cell_type": "code",
   "execution_count": 60,
   "id": "58c5a09f-0a00-4b5c-80f8-9a8600a743db",
   "metadata": {},
   "outputs": [
    {
     "data": {
      "text/plain": [
       "{'Child', 'Daddy', 'Daughter', 'MOmmy', 'Son'}"
      ]
     },
     "execution_count": 60,
     "metadata": {},
     "output_type": "execute_result"
    }
   ],
   "source": [
    "male = {'Daddy','Son','Child'}\n",
    "female = {'MOmmy','Daughter','Child'}\n",
    "family = male.union(female)\n",
    "family"
   ]
  },
  {
   "cell_type": "code",
   "execution_count": 61,
   "id": "561a82ce-1cf2-4e66-8bbc-955ed403acf1",
   "metadata": {},
   "outputs": [
    {
     "data": {
      "text/plain": [
       "{'Child'}"
      ]
     },
     "execution_count": 61,
     "metadata": {},
     "output_type": "execute_result"
    }
   ],
   "source": [
    "common_item = male.intersection(female)\n",
    "common_item"
   ]
  },
  {
   "cell_type": "code",
   "execution_count": 62,
   "id": "321be198-5ea1-4cc7-b886-462776861a34",
   "metadata": {},
   "outputs": [
    {
     "data": {
      "text/plain": [
       "{'Child', 'Daddy', 'Daughter', 'MOmmy', 'Son'}"
      ]
     },
     "execution_count": 62,
     "metadata": {},
     "output_type": "execute_result"
    }
   ],
   "source": [
    "copy_family = family.copy()\n",
    "copy_family"
   ]
  },
  {
   "cell_type": "markdown",
   "id": "4bffad7b-c401-4a15-8ad0-7b5c740300eb",
   "metadata": {},
   "source": [
    "# Dictonary\n",
    "\n",
    "### Key-Value Pair \n",
    "### Can extract with key, not value\n",
    "* Immutable\n",
    "* Not Require to be same data type\n",
    "* support in iperation\n",
    "* get() --return value"
   ]
  },
  {
   "cell_type": "code",
   "execution_count": 63,
   "id": "0f9328a0-0dcb-4983-a1c1-63bac4c078f2",
   "metadata": {},
   "outputs": [],
   "source": [
    "months = {'Jan':31, 'Feb':28, 'Mar':31, 'April':30}\n"
   ]
  },
  {
   "cell_type": "code",
   "execution_count": 64,
   "id": "f4849633-420e-4892-a5ee-1e246448b896",
   "metadata": {},
   "outputs": [
    {
     "data": {
      "text/plain": [
       "28"
      ]
     },
     "execution_count": 64,
     "metadata": {},
     "output_type": "execute_result"
    }
   ],
   "source": [
    "months['Feb']"
   ]
  },
  {
   "cell_type": "code",
   "execution_count": 65,
   "id": "f3f022fb-8d05-493e-b0f0-b98c9f43eedb",
   "metadata": {},
   "outputs": [
    {
     "data": {
      "text/plain": [
       "2"
      ]
     },
     "execution_count": 65,
     "metadata": {},
     "output_type": "execute_result"
    }
   ],
   "source": [
    "garbage = {1:'one','Two':2}\n",
    "garbage['Two']"
   ]
  },
  {
   "cell_type": "code",
   "execution_count": 66,
   "id": "84478950-cede-40fd-8c00-077ee3e2719c",
   "metadata": {},
   "outputs": [
    {
     "data": {
      "text/plain": [
       "True"
      ]
     },
     "execution_count": 66,
     "metadata": {},
     "output_type": "execute_result"
    }
   ],
   "source": [
    "'Jan' in months"
   ]
  },
  {
   "cell_type": "code",
   "execution_count": 67,
   "id": "d9d904dc-da94-415b-b179-14dc8fd26d4f",
   "metadata": {},
   "outputs": [
    {
     "data": {
      "text/plain": [
       "False"
      ]
     },
     "execution_count": 67,
     "metadata": {},
     "output_type": "execute_result"
    }
   ],
   "source": [
    "31 in months"
   ]
  },
  {
   "cell_type": "code",
   "execution_count": 68,
   "id": "22126a0a-f3b6-4b78-bf76-344821806c7d",
   "metadata": {},
   "outputs": [
    {
     "data": {
      "text/plain": [
       "31"
      ]
     },
     "execution_count": 68,
     "metadata": {},
     "output_type": "execute_result"
    }
   ],
   "source": [
    "months.get('Jan')"
   ]
  },
  {
   "cell_type": "code",
   "execution_count": 70,
   "id": "1dd3a338-8cc4-4a2f-8a9b-880795f12e8b",
   "metadata": {},
   "outputs": [],
   "source": [
    "months.get('Dec')"
   ]
  },
  {
   "cell_type": "code",
   "execution_count": 71,
   "id": "7498ca25-d66b-48d5-8bd1-a683a8de8414",
   "metadata": {},
   "outputs": [
    {
     "data": {
      "text/plain": [
       "{'Jan': 31, 'Feb': 28, 'Mar': 31, 'April': 30}"
      ]
     },
     "execution_count": 71,
     "metadata": {},
     "output_type": "execute_result"
    }
   ],
   "source": [
    "copy_month = months.copy()\n",
    "copy_month"
   ]
  },
  {
   "cell_type": "code",
   "execution_count": 72,
   "id": "79730423-ba9a-437b-b361-51f74ce38d02",
   "metadata": {},
   "outputs": [
    {
     "data": {
      "text/plain": [
       "{'Jan': 31, 'Feb': 29, 'Mar': 31, 'April': 30}"
      ]
     },
     "execution_count": 72,
     "metadata": {},
     "output_type": "execute_result"
    }
   ],
   "source": [
    "months['Feb'] = 29\n",
    "months"
   ]
  },
  {
   "cell_type": "code",
   "execution_count": 74,
   "id": "91e1b1ed-ee81-4887-abf0-73622f6ba37e",
   "metadata": {},
   "outputs": [
    {
     "data": {
      "text/plain": [
       "{'Jan': 31, 'Feb': 28, 'Mar': 31, 'April': 30}"
      ]
     },
     "execution_count": 74,
     "metadata": {},
     "output_type": "execute_result"
    }
   ],
   "source": [
    "copy_month"
   ]
  },
  {
   "cell_type": "code",
   "execution_count": 81,
   "id": "a3151ebd-f83f-4da7-b094-ed5939879b3d",
   "metadata": {},
   "outputs": [
    {
     "data": {
      "text/plain": [
       "{'Feb': 29, 'Mar': 31, 'April': 30}"
      ]
     },
     "execution_count": 81,
     "metadata": {},
     "output_type": "execute_result"
    }
   ],
   "source": [
    "months.pop('Jan')\n",
    "months\n"
   ]
  },
  {
   "cell_type": "code",
   "execution_count": 82,
   "id": "910e8b5d-e57c-4285-b880-d7ac53997cac",
   "metadata": {},
   "outputs": [
    {
     "data": {
      "text/plain": [
       "{}"
      ]
     },
     "execution_count": 82,
     "metadata": {},
     "output_type": "execute_result"
    }
   ],
   "source": [
    "months.clear()\n",
    "months"
   ]
  },
  {
   "cell_type": "code",
   "execution_count": 83,
   "id": "e37e78ef-5d32-42da-b2ba-8dd3c0cabf65",
   "metadata": {},
   "outputs": [
    {
     "ename": "NameError",
     "evalue": "name 'months' is not defined",
     "output_type": "error",
     "traceback": [
      "\u001b[0;31m---------------------------------------------------------------------------\u001b[0m",
      "\u001b[0;31mNameError\u001b[0m                                 Traceback (most recent call last)",
      "\u001b[0;32m<ipython-input-83-078398d65e01>\u001b[0m in \u001b[0;36m<module>\u001b[0;34m\u001b[0m\n\u001b[1;32m      1\u001b[0m \u001b[0;32mdel\u001b[0m \u001b[0mmonths\u001b[0m\u001b[0;34m\u001b[0m\u001b[0;34m\u001b[0m\u001b[0m\n\u001b[0;32m----> 2\u001b[0;31m \u001b[0mmonths\u001b[0m\u001b[0;34m\u001b[0m\u001b[0;34m\u001b[0m\u001b[0m\n\u001b[0m",
      "\u001b[0;31mNameError\u001b[0m: name 'months' is not defined"
     ]
    }
   ],
   "source": [
    "del months\n",
    "months"
   ]
  },
  {
   "cell_type": "code",
   "execution_count": null,
   "id": "e08378a1-760a-4473-83dd-c143f38dc1c8",
   "metadata": {},
   "outputs": [],
   "source": []
  }
 ],
 "metadata": {
  "kernelspec": {
   "display_name": "Python 3",
   "language": "python",
   "name": "python3"
  },
  "language_info": {
   "codemirror_mode": {
    "name": "ipython",
    "version": 3
   },
   "file_extension": ".py",
   "mimetype": "text/x-python",
   "name": "python",
   "nbconvert_exporter": "python",
   "pygments_lexer": "ipython3",
   "version": "3.8.8"
  }
 },
 "nbformat": 4,
 "nbformat_minor": 5
}
