{
 "cells": [
  {
   "cell_type": "markdown",
   "id": "609df6d1",
   "metadata": {},
   "source": [
    "Python String has built in method\n"
   ]
  },
  {
   "cell_type": "code",
   "execution_count": 1,
   "id": "b831597f",
   "metadata": {},
   "outputs": [
    {
     "data": {
      "text/plain": [
       "'C'"
      ]
     },
     "execution_count": 1,
     "metadata": {},
     "output_type": "execute_result"
    }
   ],
   "source": [
    "string = \"Cloud Number 9\"\n",
    "string[0]"
   ]
  },
  {
   "cell_type": "code",
   "execution_count": 2,
   "id": "74606dd7-4e7f-43f9-8f48-904afc9d4f87",
   "metadata": {},
   "outputs": [
    {
     "data": {
      "text/plain": [
       "14"
      ]
     },
     "execution_count": 2,
     "metadata": {},
     "output_type": "execute_result"
    }
   ],
   "source": [
    "len(string)"
   ]
  },
  {
   "cell_type": "code",
   "execution_count": 3,
   "id": "1d4b668e-3b5a-4aa6-96c5-e26613138aa7",
   "metadata": {},
   "outputs": [
    {
     "data": {
      "text/plain": [
       "2"
      ]
     },
     "execution_count": 3,
     "metadata": {},
     "output_type": "execute_result"
    }
   ],
   "source": [
    "string.find('o')"
   ]
  },
  {
   "cell_type": "code",
   "execution_count": 5,
   "id": "3a3ae71b-b89a-4d88-a8d3-2aee0bca5b1d",
   "metadata": {},
   "outputs": [
    {
     "data": {
      "text/plain": [
       "2"
      ]
     },
     "execution_count": 5,
     "metadata": {},
     "output_type": "execute_result"
    }
   ],
   "source": [
    "string.count('u')"
   ]
  },
  {
   "cell_type": "code",
   "execution_count": 6,
   "id": "f846b3c3-1615-45f3-afd8-3d9df6339340",
   "metadata": {},
   "outputs": [
    {
     "data": {
      "text/plain": [
       "0"
      ]
     },
     "execution_count": 6,
     "metadata": {},
     "output_type": "execute_result"
    }
   ],
   "source": [
    "string.count('n')"
   ]
  },
  {
   "cell_type": "markdown",
   "id": "9c66cb24-ab2e-4ca7-8f61-18646122ff69",
   "metadata": {},
   "source": [
    "SICING"
   ]
  },
  {
   "cell_type": "code",
   "execution_count": 7,
   "id": "394f58f8-05b6-4269-8815-4c8289369327",
   "metadata": {},
   "outputs": [
    {
     "data": {
      "text/plain": [
       "'Cloud'"
      ]
     },
     "execution_count": 7,
     "metadata": {},
     "output_type": "execute_result"
    }
   ],
   "source": [
    "string[0:5]"
   ]
  },
  {
   "cell_type": "code",
   "execution_count": 8,
   "id": "8bb864b6-a5b2-4f4e-aa8f-7fdabeaf11db",
   "metadata": {},
   "outputs": [
    {
     "data": {
      "text/plain": [
       "'Cloud'"
      ]
     },
     "execution_count": 8,
     "metadata": {},
     "output_type": "execute_result"
    }
   ],
   "source": [
    "string[:5]"
   ]
  },
  {
   "cell_type": "code",
   "execution_count": 9,
   "id": "75d91467-3994-4ef7-813e-ac25b85851aa",
   "metadata": {},
   "outputs": [
    {
     "data": {
      "text/plain": [
       "'Number 9'"
      ]
     },
     "execution_count": 9,
     "metadata": {},
     "output_type": "execute_result"
    }
   ],
   "source": [
    "string[6:]"
   ]
  },
  {
   "cell_type": "markdown",
   "id": "f7b3eaa3-991f-47f5-b789-25ad8176f09e",
   "metadata": {},
   "source": [
    "Slicing pharase from the back"
   ]
  },
  {
   "cell_type": "code",
   "execution_count": 10,
   "id": "bdca50de-5cfd-4e06-ab7a-db0714dd1026",
   "metadata": {},
   "outputs": [
    {
     "data": {
      "text/plain": [
       "''"
      ]
     },
     "execution_count": 10,
     "metadata": {},
     "output_type": "execute_result"
    }
   ],
   "source": [
    "string[-5:0]"
   ]
  },
  {
   "cell_type": "code",
   "execution_count": 11,
   "id": "f45f501b-081b-48a0-aded-497f5afa1f7a",
   "metadata": {},
   "outputs": [
    {
     "data": {
      "text/plain": [
       "'Cloud Nu'"
      ]
     },
     "execution_count": 11,
     "metadata": {},
     "output_type": "execute_result"
    }
   ],
   "source": [
    "string[:-6]"
   ]
  },
  {
   "cell_type": "markdown",
   "id": "4d9ce4fc-5c12-498c-8a50-cae999e85009",
   "metadata": {},
   "source": [
    "STRING SPLIT"
   ]
  },
  {
   "cell_type": "code",
   "execution_count": 12,
   "id": "ab567b29-4bdf-41f6-bc52-4ac45781ee65",
   "metadata": {},
   "outputs": [
    {
     "data": {
      "text/plain": [
       "['Cloud', 'Number', '9']"
      ]
     },
     "execution_count": 12,
     "metadata": {},
     "output_type": "execute_result"
    }
   ],
   "source": [
    "string.split(' ')"
   ]
  },
  {
   "cell_type": "code",
   "execution_count": 13,
   "id": "00b7abea-2a76-466d-9b00-edfdb3cdea62",
   "metadata": {},
   "outputs": [
    {
     "data": {
      "text/plain": [
       "'Cloud Number 7'"
      ]
     },
     "execution_count": 13,
     "metadata": {},
     "output_type": "execute_result"
    }
   ],
   "source": [
    "string.replace('9','7')"
   ]
  },
  {
   "cell_type": "code",
   "execution_count": 14,
   "id": "1fbb3b70-4166-4e8d-a988-1faa9f0ae5c1",
   "metadata": {},
   "outputs": [
    {
     "data": {
      "text/plain": [
       "'CLOUD NUMBER 9'"
      ]
     },
     "execution_count": 14,
     "metadata": {},
     "output_type": "execute_result"
    }
   ],
   "source": [
    "string.upper()"
   ]
  },
  {
   "cell_type": "code",
   "execution_count": 15,
   "id": "00927a44-e0c0-4682-acd6-394a79a63e08",
   "metadata": {},
   "outputs": [
    {
     "data": {
      "text/plain": [
       "'cloud number 9'"
      ]
     },
     "execution_count": 15,
     "metadata": {},
     "output_type": "execute_result"
    }
   ],
   "source": [
    "string.lower()"
   ]
  },
  {
   "cell_type": "code",
   "execution_count": 16,
   "id": "0cbb817f-7578-417f-b2a8-63ffe2cdcad4",
   "metadata": {},
   "outputs": [
    {
     "data": {
      "text/plain": [
       "'C-l-o-u-d- -N-u-m-b-e-r- -9'"
      ]
     },
     "execution_count": 16,
     "metadata": {},
     "output_type": "execute_result"
    }
   ],
   "source": [
    "'-'.join(string)"
   ]
  },
  {
   "cell_type": "markdown",
   "id": "6270061f-516a-4397-b673-d92cdea9a095",
   "metadata": {},
   "source": [
    "CHECKING AND TESTING"
   ]
  },
  {
   "cell_type": "code",
   "execution_count": 19,
   "id": "accb929e-db39-4053-a18b-246b8b06c6db",
   "metadata": {},
   "outputs": [
    {
     "data": {
      "text/plain": [
       "True"
      ]
     },
     "execution_count": 19,
     "metadata": {},
     "output_type": "execute_result"
    }
   ],
   "source": [
    "string.startswith('Cloud')"
   ]
  },
  {
   "cell_type": "code",
   "execution_count": 20,
   "id": "03510ba5-ee26-467f-9752-76132854af2e",
   "metadata": {},
   "outputs": [
    {
     "data": {
      "text/plain": [
       "True"
      ]
     },
     "execution_count": 20,
     "metadata": {},
     "output_type": "execute_result"
    }
   ],
   "source": [
    "string.endswith('9')\n"
   ]
  },
  {
   "cell_type": "markdown",
   "id": "41857184-9d61-4fa3-81bc-b4a1a35a91d7",
   "metadata": {},
   "source": [
    "ALPHA NUMBERIC"
   ]
  },
  {
   "cell_type": "code",
   "execution_count": 21,
   "id": "4ba37ee4-cb5d-4eb2-b499-66c4392f94b2",
   "metadata": {},
   "outputs": [
    {
     "data": {
      "text/plain": [
       "False"
      ]
     },
     "execution_count": 21,
     "metadata": {},
     "output_type": "execute_result"
    }
   ],
   "source": [
    "string.isalnum()"
   ]
  },
  {
   "cell_type": "code",
   "execution_count": 22,
   "id": "4d5b5f3b-03dc-41ca-b363-912dc344eb2a",
   "metadata": {},
   "outputs": [
    {
     "data": {
      "text/plain": [
       "False"
      ]
     },
     "execution_count": 22,
     "metadata": {},
     "output_type": "execute_result"
    }
   ],
   "source": [
    "string.isspace()"
   ]
  },
  {
   "cell_type": "code",
   "execution_count": null,
   "id": "abef3d7e-79bc-4d82-b596-c2d9afe69d5b",
   "metadata": {},
   "outputs": [],
   "source": []
  }
 ],
 "metadata": {
  "kernelspec": {
   "display_name": "Python 3",
   "language": "python",
   "name": "python3"
  },
  "language_info": {
   "codemirror_mode": {
    "name": "ipython",
    "version": 3
   },
   "file_extension": ".py",
   "mimetype": "text/x-python",
   "name": "python",
   "nbconvert_exporter": "python",
   "pygments_lexer": "ipython3",
   "version": "3.8.8"
  }
 },
 "nbformat": 4,
 "nbformat_minor": 5
}
