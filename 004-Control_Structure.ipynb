{
 "cells": [
  {
   "cell_type": "markdown",
   "id": "382162cc-ebee-4806-81c7-35c97e36311d",
   "metadata": {},
   "source": [
    "# Control Structure\n",
    "\n",
    "## Conditional Statement"
   ]
  },
  {
   "cell_type": "code",
   "execution_count": 1,
   "id": "7c55b0ba-8302-4756-b92f-d2662751a936",
   "metadata": {},
   "outputs": [
    {
     "name": "stdout",
     "output_type": "stream",
     "text": [
      "Degree\n"
     ]
    }
   ],
   "source": [
    "# Conditonal Statement\n",
    "\n",
    "student = 'matric pass'\n",
    "if student == 'matric pass':\n",
    "    next_course = 'Degree'\n",
    "else :\n",
    "    next_course = 'Other'\n",
    "    \n",
    "print(next_course)"
   ]
  },
  {
   "cell_type": "code",
   "execution_count": 2,
   "id": "9c50477f-f90c-40e8-b7ae-ba07088ec63a",
   "metadata": {},
   "outputs": [
    {
     "name": "stdout",
     "output_type": "stream",
     "text": [
      "Master\n"
     ]
    }
   ],
   "source": [
    "student = 'Degree Pass'\n",
    "if student == 'Matric Pass':\n",
    "    next_course = 'Degree'\n",
    "elif student == 'Degree Pass':\n",
    "    next_course = 'Master'\n",
    "else:\n",
    "    next_course = 'Other'\n",
    "    \n",
    "print(next_course)"
   ]
  },
  {
   "cell_type": "code",
   "execution_count": 4,
   "id": "0e858e8b-baf1-4f3f-99a0-51fa6f634ffe",
   "metadata": {},
   "outputs": [
    {
     "name": "stdout",
     "output_type": "stream",
     "text": [
      "Credit\n"
     ]
    }
   ],
   "source": [
    "mark = 65\n",
    "rank = 'None'\n",
    "if mark > 59 and mark < 80:\n",
    " rank = 'Credit'\n",
    "print(rank)"
   ]
  },
  {
   "cell_type": "markdown",
   "id": "3fc96e96-5557-4d01-9e41-db004f0ce397",
   "metadata": {},
   "source": [
    "### LOOPING"
   ]
  },
  {
   "cell_type": "code",
   "execution_count": 8,
   "id": "1449fbdc-062e-483e-8a51-61bf5629918d",
   "metadata": {},
   "outputs": [
    {
     "name": "stdout",
     "output_type": "stream",
     "text": [
      "['English', 'Math', 'Sceince', 'Social']\n",
      "English\n",
      "Math\n",
      "Sceince\n",
      "Social\n"
     ]
    }
   ],
   "source": [
    "subjects = [ 'English', 'Math', 'Sceince', 'Social']\n",
    "print(subjects)\n",
    "for subject in subjects:\n",
    "        print(subject)"
   ]
  },
  {
   "cell_type": "code",
   "execution_count": 9,
   "id": "78c51f20-4141-4156-9d8c-3f9d806e9e67",
   "metadata": {},
   "outputs": [
    {
     "name": "stdout",
     "output_type": "stream",
     "text": [
      "0\n",
      "1\n",
      "2\n",
      "3\n",
      "4\n"
     ]
    }
   ],
   "source": [
    "for i in range(5):\n",
    "    print(i)"
   ]
  },
  {
   "cell_type": "code",
   "execution_count": 10,
   "id": "7cb08949-e715-4d39-8998-12c92cbe8fa2",
   "metadata": {},
   "outputs": [
    {
     "name": "stdout",
     "output_type": "stream",
     "text": [
      "0\n",
      "1\n",
      "2\n",
      "3\n"
     ]
    }
   ],
   "source": [
    "for i in range(len(subjects)):\n",
    "    print(i)"
   ]
  },
  {
   "cell_type": "code",
   "execution_count": 11,
   "id": "c8ce6f5e-47f5-4e7c-b6a9-68ade3b8049d",
   "metadata": {},
   "outputs": [
    {
     "name": "stdout",
     "output_type": "stream",
     "text": [
      "English\n",
      "Math\n",
      "Sceince\n",
      "Social\n"
     ]
    }
   ],
   "source": [
    "for i in range(len(subjects)):\n",
    "    print(subjects[i])"
   ]
  },
  {
   "cell_type": "code",
   "execution_count": 13,
   "id": "9b675174-de0b-41b1-b17d-6262dbd52e3e",
   "metadata": {},
   "outputs": [
    {
     "name": "stdout",
     "output_type": "stream",
     "text": [
      "['ENGLISH', 'MATH', 'SCEINCE', 'SOCIAL']\n"
     ]
    }
   ],
   "source": [
    "cap_subject = []\n",
    "for subject in subjects:\n",
    "    cap_subject.append(subject.upper())\n",
    "print(cap_subject)"
   ]
  },
  {
   "cell_type": "code",
   "execution_count": 14,
   "id": "1ddb5484-c0d0-45bb-b0a3-e6a5714d8419",
   "metadata": {},
   "outputs": [
    {
     "name": "stdout",
     "output_type": "stream",
     "text": [
      "0\n",
      "20\n",
      "40\n",
      "60\n",
      "No less than 80\n",
      "80\n"
     ]
    }
   ],
   "source": [
    "score = 0\n",
    "while score < 80:\n",
    "    print(score)\n",
    "    score = score + 20\n",
    "print('Not less than 80')\n",
    "print(score)"
   ]
  },
  {
   "cell_type": "code",
   "execution_count": 15,
   "id": "397975c6-a865-408a-be66-1187ef49ecec",
   "metadata": {},
   "outputs": [
    {
     "name": "stdout",
     "output_type": "stream",
     "text": [
      "20\n",
      "40\n",
      "Not less than 80\n",
      "60\n"
     ]
    }
   ],
   "source": [
    "#Break --- leave from the program\n",
    "\n",
    "score = 0\n",
    "while score < 80:\n",
    "    score = score + 10\n",
    "    if score > 40:\n",
    "        break\n",
    "    print(score)\n",
    "    \n",
    "print('Not less than 80')\n",
    "print(score)"
   ]
  },
  {
   "cell_type": "code",
   "execution_count": 18,
   "id": "9a5b43ad-175d-4708-b1c7-ed5965151a1a",
   "metadata": {},
   "outputs": [
    {
     "name": "stdout",
     "output_type": "stream",
     "text": [
      "10\n",
      "20\n",
      "30\n",
      "Continuous before 80\n",
      "80\n"
     ]
    }
   ],
   "source": [
    "score = 0\n",
    "while score < 80:\n",
    "    score = score + 10\n",
    "    if score < 40:\n",
    "        print(score)\n",
    "        continue\n",
    "    #print(score)\n",
    "    \n",
    "print('Continuous before 80')\n",
    "print(score)"
   ]
  },
  {
   "cell_type": "code",
   "execution_count": null,
   "id": "e39d7dfb-fdc6-4a74-a17d-367d5851a6fd",
   "metadata": {},
   "outputs": [],
   "source": []
  }
 ],
 "metadata": {
  "kernelspec": {
   "display_name": "Python 3",
   "language": "python",
   "name": "python3"
  },
  "language_info": {
   "codemirror_mode": {
    "name": "ipython",
    "version": 3
   },
   "file_extension": ".py",
   "mimetype": "text/x-python",
   "name": "python",
   "nbconvert_exporter": "python",
   "pygments_lexer": "ipython3",
   "version": "3.8.8"
  }
 },
 "nbformat": 4,
 "nbformat_minor": 5
}
