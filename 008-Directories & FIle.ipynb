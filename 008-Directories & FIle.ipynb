{
 "cells": [
  {
   "cell_type": "markdown",
   "id": "4419e71d",
   "metadata": {},
   "source": [
    "TEXT FILE and DIRECTIORY\n",
    "\n",
    "text (end with \\n)\n",
    "Binary File(NO ENDING LINE(EOL) store afeter converting into machine understanding binary language\n",
    "\n",
    "Access Mode\n",
    "READ ONLY ('r')\n",
    "READ AND WRITE('r+')\n",
    "WRITE ONLY('w')can overwrite,no file create new\n",
    "Write and READ('w+')\n",
    "append only ('a') pointer is placed end of the file,data is written after existing data\n",
    "Append and Read('a+') can read too\n",
    "\n",
    "Attribute - \n",
    "file.name -return the name of the file\n",
    "file.mode- return access mode which file was opened\n",
    "file.close - return true if file is close,false otherwise\n",
    "\n",
    "Open Method \n",
    "open(file_name,[access mode],[buffering])\n",
    "return \n",
    "\n",
    "Close \n",
    "close()\n",
    "\n",
    "Write Method\n",
    "\n",
    "write()- insert the string into single line\n",
    "writelines()- insert the list of string element,multiple string\n",
    "\n",
    "Read Method\n",
    "read() - n bytes can specifiied n byte\n",
    "readline()\n",
    "readlines()- return list \n",
    "\n",
    "os.renmae(curretnfile,newfile)\n",
    "os.remove(filenmae)\n",
    "\n",
    "\n",
    "mkdir(dir_name)-meke directority\n",
    "chdir(dir_path_nmae)-change directority\n",
    "rmdir(dir_path name)-deleltel directority\n",
    "getcwd()- get current working directority\n",
    "\n",
    "\n"
   ]
  },
  {
   "cell_type": "code",
   "execution_count": 2,
   "id": "011fe492",
   "metadata": {},
   "outputs": [],
   "source": [
    "file_object = open(\"myfile.txt\",'w')\n",
    "file_object.write(\"city \\n\")\n",
    "file_object.close()"
   ]
  },
  {
   "cell_type": "code",
   "execution_count": 4,
   "id": "8cc18cca",
   "metadata": {},
   "outputs": [],
   "source": [
    "file_object = open(\"myfile.txt\",'w')\n",
    "L = [\"Yangon \\n\", \"Mandalay \\n\",\"Pyay \\n\"]\n",
    "file_object.write(\"city \\n\")\n",
    "file_object.writelines(L)\n",
    "file_object.close()"
   ]
  },
  {
   "cell_type": "code",
   "execution_count": 5,
   "id": "2bb2600c",
   "metadata": {},
   "outputs": [],
   "source": [
    "file_object = open(\"myfile.txt\",'a')\n",
    "file_object.write(\"Bago \\n\")\n",
    "file_object.write(\"Naypyidaw \\n\")\n",
    "file_object.close()"
   ]
  },
  {
   "cell_type": "code",
   "execution_count": 7,
   "id": "bdd30101",
   "metadata": {},
   "outputs": [
    {
     "name": "stdout",
     "output_type": "stream",
     "text": [
      "city \n",
      "Yangon \n",
      "Mandalay \n",
      "Pyay \n",
      "Bago \n",
      "Naypyidaw \n",
      "\n"
     ]
    }
   ],
   "source": [
    "file_object = open('myfile.txt','r')\n",
    "print(file_object.read())\n",
    "file_object.close()"
   ]
  },
  {
   "cell_type": "code",
   "execution_count": 8,
   "id": "3cd2ad82",
   "metadata": {},
   "outputs": [
    {
     "name": "stdout",
     "output_type": "stream",
     "text": [
      "city \n"
     ]
    }
   ],
   "source": [
    "file_object = open('myfile.txt','r')\n",
    "print(file_object.read(5))\n",
    "file_object.close()"
   ]
  },
  {
   "cell_type": "code",
   "execution_count": 10,
   "id": "3b156184",
   "metadata": {},
   "outputs": [
    {
     "name": "stdout",
     "output_type": "stream",
     "text": [
      "city \n",
      "\n"
     ]
    }
   ],
   "source": [
    "file_object = open('myfile.txt','r')\n",
    "print(file_object.readline())\n",
    "file_object.close()"
   ]
  },
  {
   "cell_type": "code",
   "execution_count": 11,
   "id": "6981bfa3",
   "metadata": {},
   "outputs": [
    {
     "name": "stdout",
     "output_type": "stream",
     "text": [
      "['city \\n', 'Yangon \\n', 'Mandalay \\n', 'Pyay \\n', 'Bago \\n', 'Naypyidaw \\n']\n"
     ]
    }
   ],
   "source": [
    "###return list \n",
    "\n",
    "file_object = open('myfile.txt','r')\n",
    "print(file_object.readlines())\n",
    "file_object.close()"
   ]
  },
  {
   "cell_type": "code",
   "execution_count": 12,
   "id": "cec03ecf",
   "metadata": {},
   "outputs": [
    {
     "ename": "UnsupportedOperation",
     "evalue": "not readable",
     "output_type": "error",
     "traceback": [
      "\u001b[0;31m---------------------------------------------------------------------------\u001b[0m",
      "\u001b[0;31mUnsupportedOperation\u001b[0m                      Traceback (most recent call last)",
      "\u001b[0;32m<ipython-input-12-3d5215b40149>\u001b[0m in \u001b[0;36m<module>\u001b[0;34m\u001b[0m\n\u001b[1;32m      3\u001b[0m \u001b[0mfile_object\u001b[0m\u001b[0;34m.\u001b[0m\u001b[0mwrite\u001b[0m\u001b[0;34m(\u001b[0m\u001b[0;34m\"city \\n\"\u001b[0m\u001b[0;34m)\u001b[0m\u001b[0;34m\u001b[0m\u001b[0;34m\u001b[0m\u001b[0m\n\u001b[1;32m      4\u001b[0m \u001b[0mfile_object\u001b[0m\u001b[0;34m.\u001b[0m\u001b[0mwritelines\u001b[0m\u001b[0;34m(\u001b[0m\u001b[0mL\u001b[0m\u001b[0;34m)\u001b[0m\u001b[0;34m\u001b[0m\u001b[0;34m\u001b[0m\u001b[0m\n\u001b[0;32m----> 5\u001b[0;31m \u001b[0mprint\u001b[0m\u001b[0;34m(\u001b[0m\u001b[0mfile_object\u001b[0m\u001b[0;34m.\u001b[0m\u001b[0mreadlines\u001b[0m\u001b[0;34m(\u001b[0m\u001b[0;34m)\u001b[0m\u001b[0;34m)\u001b[0m\u001b[0;34m\u001b[0m\u001b[0;34m\u001b[0m\u001b[0m\n\u001b[0m\u001b[1;32m      6\u001b[0m \u001b[0mfile_object\u001b[0m\u001b[0;34m.\u001b[0m\u001b[0mclose\u001b[0m\u001b[0;34m(\u001b[0m\u001b[0;34m)\u001b[0m\u001b[0;34m\u001b[0m\u001b[0;34m\u001b[0m\u001b[0m\n",
      "\u001b[0;31mUnsupportedOperation\u001b[0m: not readable"
     ]
    }
   ],
   "source": [
    "file_object = open(\"myfile.txt\",'w')\n",
    "L = [\"Yangon \\n\", \"Mandalay \\n\",\"Pyay \\n\"]\n",
    "file_object.write(\"city \\n\")\n",
    "file_object.writelines(L)\n",
    "print(file_object.readlines())\n",
    "file_object.close()"
   ]
  },
  {
   "cell_type": "code",
   "execution_count": 14,
   "id": "25c16909",
   "metadata": {},
   "outputs": [
    {
     "name": "stdout",
     "output_type": "stream",
     "text": [
      "[]\n"
     ]
    }
   ],
   "source": [
    "#Cannot get any data because w + overwrite everything in file\n",
    "\n",
    "file_object = open(\"myfile.txt\",'w+')\n",
    "L = [\"Yangon \\n\", \"Mandalay \\n\",\"Pyay \\n\"]\n",
    "file_object.write(\"city \\n\")\n",
    "file_object.writelines(L)\n",
    "print(file_object.readlines())\n",
    "file_object.close()"
   ]
  },
  {
   "cell_type": "code",
   "execution_count": 15,
   "id": "ab3dcdc4",
   "metadata": {},
   "outputs": [
    {
     "name": "stdout",
     "output_type": "stream",
     "text": [
      "['city \\n', 'Yangon \\n', 'Mandalay \\n', 'Pyay \\n']\n"
     ]
    }
   ],
   "source": [
    "file_object = open(\"myfile.txt\",'w+')\n",
    "L = [\"Yangon \\n\", \"Mandalay \\n\",\"Pyay \\n\"]\n",
    "file_object.write(\"city \\n\")\n",
    "file_object.writelines(L)\n",
    "file_object.seek(0)  ##SEND THE POINTER TO THE TOP\n",
    "print(file_object.readlines())\n",
    "file_object.close()"
   ]
  },
  {
   "cell_type": "code",
   "execution_count": 16,
   "id": "4454fe01",
   "metadata": {},
   "outputs": [
    {
     "name": "stdout",
     "output_type": "stream",
     "text": [
      "['city \\n', 'Yangon \\n', 'Mandalay \\n', 'Pyay \\n']\n"
     ]
    }
   ],
   "source": [
    "file_object = open(\"myfile.txt\",'r+')\n",
    "print(file_object.readlines())\n",
    "L = [\"Yangon \\n\", \"Mandalay \\n\",\"Pyay \\n\"]\n",
    "file_object.write(\"city \\n\")\n",
    "file_object.writelines(L)\n",
    "\n",
    "\n",
    "file_object.close()"
   ]
  },
  {
   "cell_type": "code",
   "execution_count": null,
   "id": "69c23b1d",
   "metadata": {},
   "outputs": [],
   "source": []
  }
 ],
 "metadata": {
  "kernelspec": {
   "display_name": "Python 3",
   "language": "python",
   "name": "python3"
  },
  "language_info": {
   "codemirror_mode": {
    "name": "ipython",
    "version": 3
   },
   "file_extension": ".py",
   "mimetype": "text/x-python",
   "name": "python",
   "nbconvert_exporter": "python",
   "pygments_lexer": "ipython3",
   "version": "3.8.8"
  }
 },
 "nbformat": 4,
 "nbformat_minor": 5
}
