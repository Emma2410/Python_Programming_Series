{
 "cells": [
  {
   "cell_type": "code",
   "execution_count": 4,
   "id": "6b4e784b",
   "metadata": {},
   "outputs": [],
   "source": [
    "class Queue:\n",
    "    def __init__(self):\n",
    "        self.items = []\n",
    "        \n",
    "    def isEmpty(self):\n",
    "        return self.items == []\n",
    "    \n",
    "    def enqueue(self,item):\n",
    "        self.items.insert(0,item)\n",
    "        \n",
    "    def dequeue(self):\n",
    "        return self.items.pop()\n",
    "    def size(self):\n",
    "        return len(self.items)"
   ]
  },
  {
   "cell_type": "code",
   "execution_count": 5,
   "id": "15ba4eff",
   "metadata": {},
   "outputs": [
    {
     "name": "stdout",
     "output_type": "stream",
     "text": [
      "3\n",
      "6\n",
      "Cat\n",
      "1\n"
     ]
    }
   ],
   "source": [
    "q = Queue()\n",
    "q.enqueue(6)\n",
    "q.enqueue('Cat')\n",
    "q.enqueue(True)\n",
    "print(q.size())\n",
    "print(q.dequeue())\n",
    "print(q.dequeue())\n",
    "print(q.size())"
   ]
  },
  {
   "cell_type": "code",
   "execution_count": 6,
   "id": "066f21bd",
   "metadata": {},
   "outputs": [],
   "source": [
    "class Pyqueue:\n",
    "    def __init__(self):\n",
    "        self.items ={}\n",
    "        \n",
    "    def isEmpty(self):\n",
    "        return len(self.items) == 0\n",
    "    \n",
    "    def enqueue(self, item, priority = 0):\n",
    "        if priority not in self.items:\n",
    "            self.items[priority] = Queue()\n",
    "            \n",
    "        queue = self.items[priority]\n",
    "\n",
    "        queue.enqueue(item)\n",
    "        \n",
    "    def dequeue(self):\n",
    "        keys = list(self.items.keys())\n",
    "        \n",
    "        if len(keys) > 0:\n",
    "            cursor = keys[-1]\n",
    "            \n",
    "            myqueue = self.items[cursor]\n",
    "            val = myqueue.dequeue()\n",
    "            \n",
    "            if myqueue.size() == 0:\n",
    "                del self.items[cursor]\n",
    "            return val\n",
    "        return \"\"\n",
    "    def size(self):\n",
    "        size = 0\n",
    "        for key in self.items.keys():\n",
    "            size = size + self.items[key].size()\n",
    "        return size"
   ]
  },
  {
   "cell_type": "code",
   "execution_count": 8,
   "id": "fb622e19",
   "metadata": {},
   "outputs": [],
   "source": [
    "p = Pyqueue()\n",
    "p.enqueue(\"HELLO\",1)\n",
    "p.enqueue(\"H\",2),\n",
    "p.enqueue(\"E\",5)\n",
    "p.enqueue(\"L\",3)\n",
    "p.enqueue(\"O\",3)\n",
    "p.enqueue(\"Sample\",9)\n"
   ]
  },
  {
   "cell_type": "code",
   "execution_count": 9,
   "id": "75115d60",
   "metadata": {},
   "outputs": [
    {
     "name": "stdout",
     "output_type": "stream",
     "text": [
      "6\n"
     ]
    }
   ],
   "source": [
    "print(p.size())"
   ]
  },
  {
   "cell_type": "code",
   "execution_count": 10,
   "id": "03a97b97",
   "metadata": {},
   "outputs": [
    {
     "name": "stdout",
     "output_type": "stream",
     "text": [
      "Sample\n"
     ]
    }
   ],
   "source": [
    "print(p.dequeue())"
   ]
  },
  {
   "cell_type": "code",
   "execution_count": 11,
   "id": "2772c4b2",
   "metadata": {},
   "outputs": [
    {
     "name": "stdout",
     "output_type": "stream",
     "text": [
      "L\n"
     ]
    }
   ],
   "source": [
    "print(p.dequeue())"
   ]
  },
  {
   "cell_type": "code",
   "execution_count": null,
   "id": "0e2cbafb",
   "metadata": {},
   "outputs": [],
   "source": []
  }
 ],
 "metadata": {
  "kernelspec": {
   "display_name": "Python 3",
   "language": "python",
   "name": "python3"
  },
  "language_info": {
   "codemirror_mode": {
    "name": "ipython",
    "version": 3
   },
   "file_extension": ".py",
   "mimetype": "text/x-python",
   "name": "python",
   "nbconvert_exporter": "python",
   "pygments_lexer": "ipython3",
   "version": "3.8.8"
  }
 },
 "nbformat": 4,
 "nbformat_minor": 5
}
