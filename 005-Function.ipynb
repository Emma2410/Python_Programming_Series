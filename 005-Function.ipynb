{
 "cells": [
  {
   "cell_type": "markdown",
   "id": "f5254fc0-fc1e-4384-a80d-e969b9deceae",
   "metadata": {},
   "source": [
    "# Funciton"
   ]
  },
  {
   "cell_type": "markdown",
   "id": "95994950-20de-4b8b-b254-fff8086adfcb",
   "metadata": {},
   "source": [
    "# def funcition_name():\n",
    " \n",
    "## function_name().  -----Calling Function\n",
    "\n",
    "* in order to avoid repetation and increase operation\n",
    "* not say'use the function',say 'call function'\n",
    "\n",
    "\n",
    "# ARGUMEN/PARAMETER\n",
    "* PARAMETERS ARE valuses providerd to perform  some task within the function \n",
    "* Default parameter when some data are not provided and so they work as default <br> def hello(a,b=1.5):\n",
    "\n",
    "# More about parameter and argument\n",
    "* can be using two different method\n",
    "* by name \n",
    "* by position<br>\n",
    "\n",
    "def calculate (weight,height):<br>\n",
    "   &emsp; bmi = weight/height<br>\n",
    "   &emsp;&emsp; return bmi<br>\n",
    "    \n",
    "print(calculate(height=1.6,weight = 60))\n",
    "\n",
    "# Can be Retrun more than one value \n",
    "return weight,height\n"
   ]
  },
  {
   "cell_type": "code",
   "execution_count": 1,
   "id": "1e7f5485-c986-4891-bd78-fc300336c1c4",
   "metadata": {},
   "outputs": [
    {
     "name": "stdout",
     "output_type": "stream",
     "text": [
      "Hello\n"
     ]
    }
   ],
   "source": [
    "def say_hello():\n",
    "    print(\"Hello\")\n",
    "\n",
    "say_hello()"
   ]
  },
  {
   "cell_type": "code",
   "execution_count": 5,
   "id": "608a2534-efb1-446f-b4ea-a3395007d57e",
   "metadata": {},
   "outputs": [
    {
     "name": "stdout",
     "output_type": "stream",
     "text": [
      "23.437499999999996\n"
     ]
    }
   ],
   "source": [
    "def calculate_bmi(weight, height):\n",
    "    print(weight/(height*height))\n",
    "    \n",
    "calculate_bmi(60,1.6)"
   ]
  },
  {
   "cell_type": "code",
   "execution_count": 6,
   "id": "c2acb0c3-f011-4f24-bde3-9daf32cde1f5",
   "metadata": {},
   "outputs": [
    {
     "name": "stdout",
     "output_type": "stream",
     "text": [
      "23.437499999999996\n"
     ]
    }
   ],
   "source": [
    "def calculate_bmi(weight, height = 1.6):\n",
    "    print(weight/(height*height))\n",
    "    \n",
    "calculate_bmi(60)"
   ]
  },
  {
   "cell_type": "code",
   "execution_count": 7,
   "id": "75b73cd1-2e93-44d0-89e2-93ab9a73bee6",
   "metadata": {},
   "outputs": [
    {
     "data": {
      "text/plain": [
       "23.437499999999996"
      ]
     },
     "execution_count": 7,
     "metadata": {},
     "output_type": "execute_result"
    }
   ],
   "source": [
    "def calculate_bmi(weight, height = 1.6):\n",
    "    bmi = weight/(height*height)\n",
    "    return bmi\n",
    "    \n",
    "calculate_bmi(60)"
   ]
  },
  {
   "cell_type": "code",
   "execution_count": 9,
   "id": "a3f199f7-aca9-4334-890e-137914349e77",
   "metadata": {},
   "outputs": [
    {
     "name": "stdout",
     "output_type": "stream",
     "text": [
      "20\n"
     ]
    },
    {
     "ename": "NameError",
     "evalue": "name 'x' is not defined",
     "output_type": "error",
     "traceback": [
      "\u001b[0;31m---------------------------------------------------------------------------\u001b[0m",
      "\u001b[0;31mNameError\u001b[0m                                 Traceback (most recent call last)",
      "\u001b[0;32m<ipython-input-9-396bb874d610>\u001b[0m in \u001b[0;36m<module>\u001b[0;34m\u001b[0m\n\u001b[1;32m      4\u001b[0m \u001b[0;34m\u001b[0m\u001b[0m\n\u001b[1;32m      5\u001b[0m \u001b[0mprint\u001b[0m\u001b[0;34m(\u001b[0m\u001b[0mvariable_scope\u001b[0m\u001b[0;34m(\u001b[0m\u001b[0;34m)\u001b[0m\u001b[0;34m)\u001b[0m\u001b[0;34m\u001b[0m\u001b[0;34m\u001b[0m\u001b[0m\n\u001b[0;32m----> 6\u001b[0;31m \u001b[0mprint\u001b[0m\u001b[0;34m(\u001b[0m\u001b[0mx\u001b[0m\u001b[0;34m)\u001b[0m\u001b[0;34m\u001b[0m\u001b[0;34m\u001b[0m\u001b[0m\n\u001b[0m",
      "\u001b[0;31mNameError\u001b[0m: name 'x' is not defined"
     ]
    }
   ],
   "source": [
    "def variable_scope():\n",
    "    x = 20\n",
    "    return x\n",
    "\n",
    "print(variable_scope())\n",
    "print(x)"
   ]
  },
  {
   "cell_type": "code",
   "execution_count": 10,
   "id": "a5a41bb6-dd0a-4c9b-8446-737574921478",
   "metadata": {},
   "outputs": [
    {
     "name": "stdout",
     "output_type": "stream",
     "text": [
      "20\n",
      "20\n"
     ]
    }
   ],
   "source": [
    "x = 20\n",
    "def variable_scope1():\n",
    "    return x\n",
    "\n",
    "print(variable_scope())\n",
    "print(x)"
   ]
  },
  {
   "cell_type": "code",
   "execution_count": 12,
   "id": "f2efd48f-3af4-4449-8242-311a71585188",
   "metadata": {},
   "outputs": [
    {
     "name": "stdout",
     "output_type": "stream",
     "text": [
      "58\n",
      "1.5\n",
      "60\n",
      "2.7\n",
      "55\n",
      "1.7\n"
     ]
    }
   ],
   "source": [
    "students = {58: 1.5, 60: 2.7, 55:1.7}\n",
    "for s in students:\n",
    "    print(s)\n",
    "    print(students[s])"
   ]
  },
  {
   "cell_type": "code",
   "execution_count": 18,
   "id": "bba04c2a-55d7-4abc-98be-029c2753eb10",
   "metadata": {},
   "outputs": [
    {
     "name": "stdout",
     "output_type": "stream",
     "text": [
      "25.77777777777778\n",
      "8.23045267489712\n",
      "19.031141868512112\n"
     ]
    }
   ],
   "source": [
    "def calculate_bmi(weight, height = 1.6):\n",
    "    print(weight/(height*height))\n",
    "for s in students:\n",
    "    calculate_bmi(s, students[s])\n",
    "    \n",
    "    "
   ]
  },
  {
   "cell_type": "code",
   "execution_count": 19,
   "id": "dfc86d85-d1b3-409a-9a53-ba1864c4146d",
   "metadata": {},
   "outputs": [
    {
     "name": "stdout",
     "output_type": "stream",
     "text": [
      "65 1.62\n"
     ]
    }
   ],
   "source": [
    "def change (w, h):\n",
    "    w = w + 5\n",
    "    h = h + 0.02\n",
    "    return w,h\n",
    "n_weight,n_height = change(60,1.6)\n",
    "print(n_weight,n_height)"
   ]
  },
  {
   "cell_type": "code",
   "execution_count": null,
   "id": "62d0ea53-602e-45a1-82d9-3b0e2bf24451",
   "metadata": {},
   "outputs": [],
   "source": []
  }
 ],
 "metadata": {
  "kernelspec": {
   "display_name": "Python 3",
   "language": "python",
   "name": "python3"
  },
  "language_info": {
   "codemirror_mode": {
    "name": "ipython",
    "version": 3
   },
   "file_extension": ".py",
   "mimetype": "text/x-python",
   "name": "python",
   "nbconvert_exporter": "python",
   "pygments_lexer": "ipython3",
   "version": "3.8.8"
  }
 },
 "nbformat": 4,
 "nbformat_minor": 5
}
