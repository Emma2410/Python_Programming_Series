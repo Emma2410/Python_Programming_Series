{
 "cells": [
  {
   "cell_type": "code",
   "execution_count": 8,
   "id": "f22172f8",
   "metadata": {},
   "outputs": [],
   "source": [
    "class Stack:\n",
    "    def __init__(self):   #constructor\n",
    "        self.items = []\n",
    "    def is_empty(self):\n",
    "        return self.items == []\n",
    "    def push(self,item):\n",
    "        self.items.append(item)\n",
    "    def pop(self):\n",
    "        return self.items.pop()\n",
    "    def peek(self):\n",
    "        return self.items[len(self.items) - 1]\n",
    "    def size(self):\n",
    "        return len(self.items)"
   ]
  },
  {
   "cell_type": "code",
   "execution_count": null,
   "id": "b4be72b0",
   "metadata": {},
   "outputs": [],
   "source": [
    "#Exercise1\n",
    "convert decimal to binary(668/2) "
   ]
  },
  {
   "cell_type": "code",
   "execution_count": null,
   "id": "e29d5138",
   "metadata": {},
   "outputs": [],
   "source": [
    "668/2 = 334 , Mod : 0\n",
    "334/2 = 167,  Mod: 0\n",
    "167/2 = 83, Mod:1\n",
    "83/2 = 41,    1\n",
    "41/2 = 20,1\n",
    "20/2 = 10,0\n",
    "10/2 = 5,0\n",
    "5/2 =  2,1\n",
    "2/2 = 1,0\n",
    "1/2 = 0,1\n",
    "print from last to first = 1010011100"
   ]
  },
  {
   "cell_type": "code",
   "execution_count": 17,
   "id": "ef8c5ce6",
   "metadata": {},
   "outputs": [
    {
     "name": "stdout",
     "output_type": "stream",
     "text": [
      "1010011100\n"
     ]
    }
   ],
   "source": [
    "def dividedBytwo(dec_num):\n",
    "    remStack = Stack()\n",
    "    \n",
    "    while dec_num > 0:\n",
    "        rem = dec_num % 2\n",
    "        remStack.push(rem)\n",
    "        dec_num = dec_num//2\n",
    "    \n",
    "    binString = \"\"\n",
    "    while not remStack.is_empty():\n",
    "        binString = binString+ str(remStack.pop())\n",
    "        \n",
    "    return binString\n",
    "\n",
    "print(dividedBytwo(668))"
   ]
  },
  {
   "cell_type": "code",
   "execution_count": null,
   "id": "bae2b74f",
   "metadata": {},
   "outputs": [],
   "source": [
    "#Exercise2\n",
    "covert base 10 to 8\n",
    "answer 1234"
   ]
  },
  {
   "cell_type": "code",
   "execution_count": 19,
   "id": "fd5e95ca",
   "metadata": {},
   "outputs": [
    {
     "name": "stdout",
     "output_type": "stream",
     "text": [
      "1234\n"
     ]
    }
   ],
   "source": [
    "def dividedByeight(decNum):\n",
    "    s = Stack()\n",
    "    \n",
    "    while decNum > 0:\n",
    "        temp = decNum % 8\n",
    "        s.push(temp)\n",
    "        decNum = decNum // 8\n",
    "        \n",
    "    Answer = \"\"\n",
    "    while not s.is_empty():\n",
    "        Answer = Answer + str(s.pop())\n",
    "    return Answer\n",
    "\n",
    "print(dividedByeight(668))"
   ]
  },
  {
   "cell_type": "code",
   "execution_count": null,
   "id": "1b7c84cf",
   "metadata": {},
   "outputs": [],
   "source": [
    "#Exercise3\n",
    "Convert base 10 to base 16"
   ]
  },
  {
   "cell_type": "code",
   "execution_count": 21,
   "id": "2f0d789d",
   "metadata": {},
   "outputs": [
    {
     "name": "stdout",
     "output_type": "stream",
     "text": [
      "29C\n"
     ]
    }
   ],
   "source": [
    "def dividedBy16(decNum):\n",
    "    s = Stack()\n",
    "    \n",
    "    while decNum > 0 :\n",
    "        temp = decNum % 16\n",
    "        if temp == 10 :\n",
    "            s.push('A')\n",
    "            \n",
    "        elif temp == 11:\n",
    "            s.push('B')\n",
    "            \n",
    "        elif temp ==12:\n",
    "            s.push('C')\n",
    "        \n",
    "        elif temp == 13:\n",
    "            s.push('D')\n",
    "        elif temp ==14:\n",
    "            s.push('E')\n",
    "        elif temp == 15:\n",
    "            s.push('F')\n",
    "        else:\n",
    "            s.push(temp)\n",
    "            \n",
    "        decNum = decNum // 16\n",
    "        \n",
    "    Answer = \"\"\n",
    "    while not s.is_empty():\n",
    "        Answer = Answer + str(s.pop())\n",
    "    return Answer\n",
    "\n",
    "print(dividedBy16(668))"
   ]
  },
  {
   "cell_type": "code",
   "execution_count": null,
   "id": "cda0f83e",
   "metadata": {},
   "outputs": [],
   "source": []
  }
 ],
 "metadata": {
  "kernelspec": {
   "display_name": "Python 3",
   "language": "python",
   "name": "python3"
  },
  "language_info": {
   "codemirror_mode": {
    "name": "ipython",
    "version": 3
   },
   "file_extension": ".py",
   "mimetype": "text/x-python",
   "name": "python",
   "nbconvert_exporter": "python",
   "pygments_lexer": "ipython3",
   "version": "3.8.8"
  }
 },
 "nbformat": 4,
 "nbformat_minor": 5
}
